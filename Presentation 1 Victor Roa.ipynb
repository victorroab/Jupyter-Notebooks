{
 "cells": [
  {
   "cell_type": "markdown",
   "metadata": {},
   "source": [
    "# CAP4631C Machine Learning I\n",
    "## Presentation 1 \n",
    "### Victor Roa - 09/06/2021"
   ]
  },
  {
   "cell_type": "markdown",
   "metadata": {},
   "source": [
    "\n"
   ]
  },
  {
   "cell_type": "markdown",
   "metadata": {
    "ExecuteTime": {
     "end_time": "2021-09-06T19:08:38.177975Z",
     "start_time": "2021-09-06T19:08:38.166925Z"
    }
   },
   "source": [
    "Importing libraries"
   ]
  },
  {
   "cell_type": "code",
   "execution_count": 1,
   "metadata": {
    "ExecuteTime": {
     "end_time": "2021-09-27T00:35:14.642349Z",
     "start_time": "2021-09-27T00:35:13.078566Z"
    }
   },
   "outputs": [],
   "source": [
    "import pandas as pd\n",
    "import numpy as np\n",
    "import matplotlib.pyplot as plt\n",
    "from sklearn.linear_model import LinearRegression\n",
    "from sklearn.metrics import r2_score\n",
    "import statsmodels.api as sm"
   ]
  },
  {
   "cell_type": "markdown",
   "metadata": {},
   "source": [
    "  "
   ]
  },
  {
   "cell_type": "markdown",
   "metadata": {
    "ExecuteTime": {
     "end_time": "2021-09-06T19:09:50.775698Z",
     "start_time": "2021-09-06T19:09:50.766730Z"
    }
   },
   "source": [
    "Now using pandas(pd.read_csv,) a new dataframe (house_rs) is created based on Real estate.csv\n"
   ]
  },
  {
   "cell_type": "code",
   "execution_count": 2,
   "metadata": {
    "ExecuteTime": {
     "end_time": "2021-09-27T00:35:15.715353Z",
     "start_time": "2021-09-27T00:35:15.676416Z"
    }
   },
   "outputs": [
    {
     "data": {
      "text/html": [
       "<div>\n",
       "<style scoped>\n",
       "    .dataframe tbody tr th:only-of-type {\n",
       "        vertical-align: middle;\n",
       "    }\n",
       "\n",
       "    .dataframe tbody tr th {\n",
       "        vertical-align: top;\n",
       "    }\n",
       "\n",
       "    .dataframe thead th {\n",
       "        text-align: right;\n",
       "    }\n",
       "</style>\n",
       "<table border=\"1\" class=\"dataframe\">\n",
       "  <thead>\n",
       "    <tr style=\"text-align: right;\">\n",
       "      <th></th>\n",
       "      <th>No</th>\n",
       "      <th>transaction date</th>\n",
       "      <th>house age</th>\n",
       "      <th>distance to the nearest MRT station</th>\n",
       "      <th>number of convenience stores</th>\n",
       "      <th>latitude</th>\n",
       "      <th>longitude</th>\n",
       "      <th>house price of unit area</th>\n",
       "    </tr>\n",
       "  </thead>\n",
       "  <tbody>\n",
       "    <tr>\n",
       "      <th>0</th>\n",
       "      <td>1</td>\n",
       "      <td>2012.917</td>\n",
       "      <td>32.0</td>\n",
       "      <td>84.87882</td>\n",
       "      <td>10</td>\n",
       "      <td>24.98298</td>\n",
       "      <td>121.54024</td>\n",
       "      <td>37.9</td>\n",
       "    </tr>\n",
       "    <tr>\n",
       "      <th>1</th>\n",
       "      <td>2</td>\n",
       "      <td>2012.917</td>\n",
       "      <td>19.5</td>\n",
       "      <td>306.59470</td>\n",
       "      <td>9</td>\n",
       "      <td>24.98034</td>\n",
       "      <td>121.53951</td>\n",
       "      <td>42.2</td>\n",
       "    </tr>\n",
       "    <tr>\n",
       "      <th>2</th>\n",
       "      <td>3</td>\n",
       "      <td>2013.583</td>\n",
       "      <td>13.3</td>\n",
       "      <td>561.98450</td>\n",
       "      <td>5</td>\n",
       "      <td>24.98746</td>\n",
       "      <td>121.54391</td>\n",
       "      <td>47.3</td>\n",
       "    </tr>\n",
       "    <tr>\n",
       "      <th>3</th>\n",
       "      <td>4</td>\n",
       "      <td>2013.500</td>\n",
       "      <td>13.3</td>\n",
       "      <td>561.98450</td>\n",
       "      <td>5</td>\n",
       "      <td>24.98746</td>\n",
       "      <td>121.54391</td>\n",
       "      <td>54.8</td>\n",
       "    </tr>\n",
       "    <tr>\n",
       "      <th>4</th>\n",
       "      <td>5</td>\n",
       "      <td>2012.833</td>\n",
       "      <td>5.0</td>\n",
       "      <td>390.56840</td>\n",
       "      <td>5</td>\n",
       "      <td>24.97937</td>\n",
       "      <td>121.54245</td>\n",
       "      <td>43.1</td>\n",
       "    </tr>\n",
       "    <tr>\n",
       "      <th>...</th>\n",
       "      <td>...</td>\n",
       "      <td>...</td>\n",
       "      <td>...</td>\n",
       "      <td>...</td>\n",
       "      <td>...</td>\n",
       "      <td>...</td>\n",
       "      <td>...</td>\n",
       "      <td>...</td>\n",
       "    </tr>\n",
       "    <tr>\n",
       "      <th>409</th>\n",
       "      <td>410</td>\n",
       "      <td>2013.000</td>\n",
       "      <td>13.7</td>\n",
       "      <td>4082.01500</td>\n",
       "      <td>0</td>\n",
       "      <td>24.94155</td>\n",
       "      <td>121.50381</td>\n",
       "      <td>15.4</td>\n",
       "    </tr>\n",
       "    <tr>\n",
       "      <th>410</th>\n",
       "      <td>411</td>\n",
       "      <td>2012.667</td>\n",
       "      <td>5.6</td>\n",
       "      <td>90.45606</td>\n",
       "      <td>9</td>\n",
       "      <td>24.97433</td>\n",
       "      <td>121.54310</td>\n",
       "      <td>50.0</td>\n",
       "    </tr>\n",
       "    <tr>\n",
       "      <th>411</th>\n",
       "      <td>412</td>\n",
       "      <td>2013.250</td>\n",
       "      <td>18.8</td>\n",
       "      <td>390.96960</td>\n",
       "      <td>7</td>\n",
       "      <td>24.97923</td>\n",
       "      <td>121.53986</td>\n",
       "      <td>40.6</td>\n",
       "    </tr>\n",
       "    <tr>\n",
       "      <th>412</th>\n",
       "      <td>413</td>\n",
       "      <td>2013.000</td>\n",
       "      <td>8.1</td>\n",
       "      <td>104.81010</td>\n",
       "      <td>5</td>\n",
       "      <td>24.96674</td>\n",
       "      <td>121.54067</td>\n",
       "      <td>52.5</td>\n",
       "    </tr>\n",
       "    <tr>\n",
       "      <th>413</th>\n",
       "      <td>414</td>\n",
       "      <td>2013.500</td>\n",
       "      <td>6.5</td>\n",
       "      <td>90.45606</td>\n",
       "      <td>9</td>\n",
       "      <td>24.97433</td>\n",
       "      <td>121.54310</td>\n",
       "      <td>63.9</td>\n",
       "    </tr>\n",
       "  </tbody>\n",
       "</table>\n",
       "<p>414 rows × 8 columns</p>\n",
       "</div>"
      ],
      "text/plain": [
       "      No  transaction date  house age  distance to the nearest MRT station  \\\n",
       "0      1          2012.917       32.0                             84.87882   \n",
       "1      2          2012.917       19.5                            306.59470   \n",
       "2      3          2013.583       13.3                            561.98450   \n",
       "3      4          2013.500       13.3                            561.98450   \n",
       "4      5          2012.833        5.0                            390.56840   \n",
       "..   ...               ...        ...                                  ...   \n",
       "409  410          2013.000       13.7                           4082.01500   \n",
       "410  411          2012.667        5.6                             90.45606   \n",
       "411  412          2013.250       18.8                            390.96960   \n",
       "412  413          2013.000        8.1                            104.81010   \n",
       "413  414          2013.500        6.5                             90.45606   \n",
       "\n",
       "     number of convenience stores   latitude  longitude  \\\n",
       "0                              10   24.98298  121.54024   \n",
       "1                               9   24.98034  121.53951   \n",
       "2                               5   24.98746  121.54391   \n",
       "3                               5   24.98746  121.54391   \n",
       "4                               5   24.97937  121.54245   \n",
       "..                            ...        ...        ...   \n",
       "409                             0   24.94155  121.50381   \n",
       "410                             9   24.97433  121.54310   \n",
       "411                             7   24.97923  121.53986   \n",
       "412                             5   24.96674  121.54067   \n",
       "413                             9   24.97433  121.54310   \n",
       "\n",
       "     house price of unit area  \n",
       "0                        37.9  \n",
       "1                        42.2  \n",
       "2                        47.3  \n",
       "3                        54.8  \n",
       "4                        43.1  \n",
       "..                        ...  \n",
       "409                      15.4  \n",
       "410                      50.0  \n",
       "411                      40.6  \n",
       "412                      52.5  \n",
       "413                      63.9  \n",
       "\n",
       "[414 rows x 8 columns]"
      ]
     },
     "execution_count": 2,
     "metadata": {},
     "output_type": "execute_result"
    }
   ],
   "source": [
    "# Enter you solution code here:\n",
    "house_rs = pd.read_csv(\"Real estate.csv\")\n",
    "house_rs"
   ]
  },
  {
   "cell_type": "markdown",
   "metadata": {},
   "source": [
    "  "
   ]
  },
  {
   "cell_type": "markdown",
   "metadata": {},
   "source": [
    "  "
   ]
  },
  {
   "cell_type": "markdown",
   "metadata": {},
   "source": [
    "Now, before applying the libraries for linear regression, it is needed to set the goals to be achieved using the regression model, and then, start the ETL process of the dataset selected, to avoid outliers and data points that would affect the accurate prediction of our model."
   ]
  },
  {
   "cell_type": "markdown",
   "metadata": {},
   "source": [
    " \n",
    " "
   ]
  },
  {
   "cell_type": "markdown",
   "metadata": {},
   "source": [
    "The first step is to remove the columns that are not relevant for this project. In my case, I will evaluate if the House Age, Distance to the nearest MRT station and the number of convenience stores affect the price of unit area "
   ]
  },
  {
   "cell_type": "markdown",
   "metadata": {},
   "source": [
    " "
   ]
  },
  {
   "cell_type": "markdown",
   "metadata": {},
   "source": [
    "According to the kaggle description, the radio for the count of the convenience stores is 10000m (10 km), the distance to the station is calculate in meters as well. The house price multiplier was not stated, but based on the real life prices, they are probably divided by $10k."
   ]
  },
  {
   "cell_type": "code",
   "execution_count": null,
   "metadata": {
    "ExecuteTime": {
     "end_time": "2021-09-09T22:26:52.271200Z",
     "start_time": "2021-09-09T22:26:52.244500Z"
    }
   },
   "outputs": [],
   "source": [
    "clean_house_rs = house_rs[['house age','distance to the nearest MRT station', 'number of convenience stores', 'house price of unit area']]\n",
    "clean_house_rs"
   ]
  },
  {
   "cell_type": "markdown",
   "metadata": {},
   "source": [
    "Statistical summary of the data:"
   ]
  },
  {
   "cell_type": "code",
   "execution_count": null,
   "metadata": {
    "ExecuteTime": {
     "end_time": "2021-09-09T22:26:52.332626Z",
     "start_time": "2021-09-09T22:26:52.274271Z"
    }
   },
   "outputs": [],
   "source": [
    "clean_house_rs.describe()"
   ]
  },
  {
   "cell_type": "markdown",
   "metadata": {},
   "source": [
    "Now, a quick check of the data types. All of them should have a numeric data type"
   ]
  },
  {
   "cell_type": "code",
   "execution_count": null,
   "metadata": {
    "ExecuteTime": {
     "end_time": "2021-09-09T22:26:52.348105Z",
     "start_time": "2021-09-09T22:26:52.335591Z"
    }
   },
   "outputs": [],
   "source": [
    "clean_house_rs.dtypes"
   ]
  },
  {
   "cell_type": "markdown",
   "metadata": {},
   "source": [
    "Now, I created 3 scatter plot to check the correlation between the independent variables and the house price"
   ]
  },
  {
   "cell_type": "code",
   "execution_count": null,
   "metadata": {
    "ExecuteTime": {
     "end_time": "2021-09-09T22:26:53.299952Z",
     "start_time": "2021-09-09T22:26:52.354376Z"
    }
   },
   "outputs": [],
   "source": [
    "scatter_plot = clean_house_rs.plot(kind='scatter', x='house age', y='house price of unit area', \n",
    "                                   color = 'blue', xlabel='House Age', ylabel='House Price ($10k)',\n",
    "                                   figsize=(12,8), title= 'House Age vs. Price')\n",
    "\n",
    "scatter_plot = clean_house_rs.plot(kind='scatter', x='distance to the nearest MRT station', y='house price of unit area', \n",
    "                                   color = 'red', xlabel='Distance to MRT station(meters)', ylabel='House Price ($10k)',\n",
    "                                   figsize=(12,8), title= 'Distance to MRT station vs. Price')\n",
    "scatter_plot = clean_house_rs.plot(kind='scatter', x='number of convenience stores', y='house price of unit area', \n",
    "                                   color = 'black', xlabel='# Of convenience stores', ylabel='House Price ($10k)',\n",
    "                                   figsize=(12,8), title= '# of Convenience stores vs. Price')\n"
   ]
  },
  {
   "cell_type": "markdown",
   "metadata": {},
   "source": [
    "I noticed that there is one data point that doesn't follow a pattern compared to the rest of the data points. To improve the accuracy of my model, I decided to remove this outliers from the dataset"
   ]
  },
  {
   "cell_type": "code",
   "execution_count": null,
   "metadata": {
    "ExecuteTime": {
     "end_time": "2021-09-09T22:26:53.423486Z",
     "start_time": "2021-09-09T22:26:53.303455Z"
    }
   },
   "outputs": [],
   "source": [
    "df_filtered = clean_house_rs[clean_house_rs['house price of unit area'] <= 100]"
   ]
  },
  {
   "cell_type": "code",
   "execution_count": null,
   "metadata": {
    "ExecuteTime": {
     "end_time": "2021-09-09T22:26:54.434617Z",
     "start_time": "2021-09-09T22:26:53.429444Z"
    }
   },
   "outputs": [],
   "source": [
    "scatter_plot1 = df_filtered.plot(kind='scatter', x='house age', y='house price of unit area', \n",
    "                                   color = 'blue', xlabel='House Age', ylabel='House Price ($10k)',\n",
    "                                   figsize=(12,8), title= 'House Age vs. Price')\n",
    "scatter_plot2 = df_filtered.plot(kind='scatter', x='distance to the nearest MRT station', y='house price of unit area', \n",
    "                                   color = 'green', xlabel='Distance to MRT station(meters)', ylabel='House Price ($10k)',\n",
    "                                   figsize=(12,8), title= 'Distance to MRT station vs. Price')\n",
    "scatter_plot3 = df_filtered.plot(kind='scatter', x='number of convenience stores', y='house price of unit area', \n",
    "                                   color = 'black', xlabel='# Of convenience stores', ylabel='House Price ($10k)',\n",
    "                                   figsize=(12,8), title= '# of Convenience stores vs. Price')\n"
   ]
  },
  {
   "cell_type": "code",
   "execution_count": null,
   "metadata": {
    "ExecuteTime": {
     "end_time": "2021-09-09T22:26:54.481529Z",
     "start_time": "2021-09-09T22:26:54.435616Z"
    }
   },
   "outputs": [],
   "source": [
    "from sklearn import linear_model\n",
    "\n",
    "ln_reg1 = linear_model.LinearRegression(normalize=False, fit_intercept=True)\n",
    "x1 = df_filtered['house age'].values.reshape(len(df_filtered),1) \n",
    "y1 = df_filtered['house price of unit area'].values\n",
    "ln_reg1.fit(x1,y1)\n",
    "\n",
    "print (\"The linear equation is Y = \" + str(round(ln_reg1.coef_[0],4)) + \" + \" + str(round(ln_reg1.intercept_,4)) + \"X\" )"
   ]
  },
  {
   "cell_type": "code",
   "execution_count": null,
   "metadata": {
    "ExecuteTime": {
     "end_time": "2021-09-09T22:26:54.496881Z",
     "start_time": "2021-09-09T22:26:54.485578Z"
    }
   },
   "outputs": [],
   "source": [
    "ln_reg2 = linear_model.LinearRegression(normalize=False, fit_intercept=True)\n",
    "x2 = df_filtered['distance to the nearest MRT station'].values.reshape(len(df_filtered),1) \n",
    "y2 = df_filtered['house price of unit area'].values\n",
    "ln_reg2.fit(x2,y2)\n",
    "\n",
    "print (\"The linear equation is Y = \" + str(round(ln_reg2.coef_[0],4)) + \" + \" + str(round(ln_reg2.intercept_,4)) + \"X\" )"
   ]
  },
  {
   "cell_type": "code",
   "execution_count": null,
   "metadata": {
    "ExecuteTime": {
     "end_time": "2021-09-09T22:26:54.512410Z",
     "start_time": "2021-09-09T22:26:54.502350Z"
    }
   },
   "outputs": [],
   "source": [
    "ln_reg3 = linear_model.LinearRegression(normalize=False, fit_intercept=True)\n",
    "x3 = df_filtered['number of convenience stores'].values.reshape(len(df_filtered),1) \n",
    "y3 = df_filtered['house price of unit area'].values\n",
    "ln_reg3.fit(x3,y3)\n",
    "\n",
    "print (\"The linear equation is Y = \" + str(round(ln_reg3.coef_[0],4)) + \" + \" + str(round(ln_reg3.intercept_,4)) + \"X\" )"
   ]
  },
  {
   "cell_type": "code",
   "execution_count": null,
   "metadata": {
    "ExecuteTime": {
     "end_time": "2021-09-09T22:26:55.452332Z",
     "start_time": "2021-09-09T22:26:54.514499Z"
    }
   },
   "outputs": [],
   "source": [
    "fitted_v1=ln_reg1.predict(x1)\n",
    "scatter_plot1 = df_filtered.plot(kind='scatter', x='house age', y='house price of unit area', \n",
    "                                   color = 'blue', xlabel='House Age', ylabel='House Price ($10k)',\n",
    "                                   figsize=(12,8), title= 'House Age vs. Price')\n",
    "reg_line1 = scatter_plot1.plot(df_filtered['house age'], fitted_v1, '-', color='red', linewidth=2)\n",
    "\n",
    "\n",
    "fitted_v2=ln_reg2.predict(x2)\n",
    "scatter_plot2 = df_filtered.plot(kind='scatter', x='distance to the nearest MRT station', y='house price of unit area', \n",
    "                                   color = 'green', xlabel='Distance to MRT station(meters)', ylabel='House Price ($10k)',\n",
    "                                   figsize=(12,8), title= 'Distance to MRT station vs. Price')\n",
    "reg_line2 = scatter_plot2.plot(df_filtered['distance to the nearest MRT station'], fitted_v2, '-', color='red', linewidth=2)\n",
    "\n",
    "\n",
    "fitted_v3=ln_reg3.predict(x3)\n",
    "scatter_plot3 = df_filtered.plot(kind='scatter', x='number of convenience stores', y='house price of unit area', \n",
    "                                   color = 'black', xlabel='# Of convenience stores', ylabel='House Price ($10k)',\n",
    "                                   figsize=(12,8), title= '# of Convenience stores vs. Price')\n",
    "reg_line3 = scatter_plot3.plot(df_filtered['number of convenience stores'], fitted_v3, '-', color='red', linewidth=2)\n",
    "\n"
   ]
  },
  {
   "cell_type": "markdown",
   "metadata": {},
   "source": [
    "Sklearn helps us to create linear models easily. But i wanted to see the statistical analysis for the models, therefore, I decided to use statsmodels to get a stastistical summary of the models created"
   ]
  },
  {
   "cell_type": "code",
   "execution_count": null,
   "metadata": {
    "ExecuteTime": {
     "end_time": "2021-09-09T22:26:55.513399Z",
     "start_time": "2021-09-09T22:26:55.456780Z"
    }
   },
   "outputs": [],
   "source": [
    "import statsmodels.api as sm\n",
    "import statsmodels.formula.api as smf\n",
    "\n",
    "df_filtered = df_filtered.rename(columns= {'house age':'age', 'house price of unit area':'price', 'distance to the nearest MRT station':'mrt_distance',\n",
    "                            'number of convenience stores':'no_stores'})\n",
    "#renaming the columns was somethin I should do since the beginning :) \n",
    "\n",
    "linear_regression = smf.ols(formula='price ~ age', data=df_filtered)\n",
    "fitted_model = linear_regression.fit()\n",
    "fitted_model.summary()"
   ]
  },
  {
   "cell_type": "code",
   "execution_count": null,
   "metadata": {
    "ExecuteTime": {
     "end_time": "2021-09-09T22:26:55.543401Z",
     "start_time": "2021-09-09T22:26:55.515402Z"
    }
   },
   "outputs": [],
   "source": [
    "linear_regression = smf.ols(formula='price ~ mrt_distance', data=df_filtered)\n",
    "fitted_model = linear_regression.fit()\n",
    "fitted_model.summary()"
   ]
  },
  {
   "cell_type": "code",
   "execution_count": null,
   "metadata": {
    "ExecuteTime": {
     "end_time": "2021-09-09T22:26:55.589342Z",
     "start_time": "2021-09-09T22:26:55.547837Z"
    }
   },
   "outputs": [],
   "source": [
    "linear_regression = smf.ols(formula='price ~ no_stores', data=df_filtered)\n",
    "fitted_model = linear_regression.fit()\n",
    "fitted_model.summary()"
   ]
  },
  {
   "cell_type": "markdown",
   "metadata": {},
   "source": [
    "At the end, I tried doing a multiple linear regression to see if there is any improvement on the prediction accuracy."
   ]
  },
  {
   "cell_type": "code",
   "execution_count": null,
   "metadata": {
    "ExecuteTime": {
     "end_time": "2021-09-09T22:26:55.650048Z",
     "start_time": "2021-09-09T22:26:55.595887Z"
    }
   },
   "outputs": [],
   "source": [
    "linear_regression = smf.ols(formula='price ~ age + mrt_distance + no_stores', data=df_filtered)\n",
    "fitted_model = linear_regression.fit()\n",
    "fitted_model.summary()"
   ]
  },
  {
   "cell_type": "code",
   "execution_count": null,
   "metadata": {
    "ExecuteTime": {
     "end_time": "2021-09-09T22:28:01.801666Z",
     "start_time": "2021-09-09T22:28:01.777325Z"
    }
   },
   "outputs": [],
   "source": [
    "x_mult_lm= df_filtered[['age','mrt_distance','no_stores']]\n",
    "y_mult_lm=df_filtered['price']\n",
    "\n",
    "predicted_y1= fitted_model.predict(x)\n",
    "predicted_y1"
   ]
  },
  {
   "cell_type": "code",
   "execution_count": null,
   "metadata": {
    "ExecuteTime": {
     "end_time": "2021-09-09T22:28:05.166274Z",
     "start_time": "2021-09-09T22:28:05.153381Z"
    }
   },
   "outputs": [],
   "source": [
    "y_mult_lm"
   ]
  },
  {
   "cell_type": "code",
   "execution_count": null,
   "metadata": {
    "ExecuteTime": {
     "end_time": "2021-09-09T22:29:47.794048Z",
     "start_time": "2021-09-09T22:29:47.775278Z"
    }
   },
   "outputs": [],
   "source": [
    "from statsmodels.tools.eval_measures import rmse\n",
    "rmse = rmse(y_mult_lm, predicted_y1)\n",
    "\n",
    "print(\"Root Mean Squared Error:\",rmse)"
   ]
  },
  {
   "cell_type": "markdown",
   "metadata": {},
   "source": [
    "Finally, for the sake of knowledge, and because I had a feeling, I tried doing a lm using mrt_distance and no_stores as IV."
   ]
  },
  {
   "cell_type": "code",
   "execution_count": null,
   "metadata": {
    "ExecuteTime": {
     "end_time": "2021-09-09T22:26:55.757793Z",
     "start_time": "2021-09-09T22:26:55.706870Z"
    }
   },
   "outputs": [],
   "source": [
    "linear_regression = smf.ols(formula='price ~ mrt_distance + no_stores', data=df_filtered)\n",
    "fitted_model = linear_regression.fit()\n",
    "fitted_model.summary()"
   ]
  },
  {
   "cell_type": "code",
   "execution_count": null,
   "metadata": {
    "ExecuteTime": {
     "end_time": "2021-09-09T22:31:40.406937Z",
     "start_time": "2021-09-09T22:31:40.386791Z"
    }
   },
   "outputs": [],
   "source": [
    "x_2test= df_filtered[['mrt_distance','no_stores']]\n",
    "predicted_y2= fitted_model.predict(x_2test)\n",
    "predicted_y2"
   ]
  },
  {
   "cell_type": "code",
   "execution_count": null,
   "metadata": {
    "ExecuteTime": {
     "end_time": "2021-09-09T22:31:43.070123Z",
     "start_time": "2021-09-09T22:31:43.057105Z"
    }
   },
   "outputs": [],
   "source": [
    "y_mult_lm"
   ]
  },
  {
   "cell_type": "markdown",
   "metadata": {},
   "source": [
    "And the feeling, was incorrect. The accuracy worsened."
   ]
  }
 ],
 "metadata": {
  "kernelspec": {
   "display_name": "Python 3",
   "language": "python",
   "name": "python3"
  },
  "language_info": {
   "codemirror_mode": {
    "name": "ipython",
    "version": 3
   },
   "file_extension": ".py",
   "mimetype": "text/x-python",
   "name": "python",
   "nbconvert_exporter": "python",
   "pygments_lexer": "ipython3",
   "version": "3.8.5"
  },
  "toc": {
   "base_numbering": 1,
   "nav_menu": {},
   "number_sections": true,
   "sideBar": true,
   "skip_h1_title": false,
   "title_cell": "Table of Contents",
   "title_sidebar": "Contents",
   "toc_cell": false,
   "toc_position": {},
   "toc_section_display": true,
   "toc_window_display": false
  }
 },
 "nbformat": 4,
 "nbformat_minor": 4
}

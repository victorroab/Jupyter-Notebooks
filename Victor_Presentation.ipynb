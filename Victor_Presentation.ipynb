{
 "cells": [
  {
   "cell_type": "markdown",
   "id": "01255c97",
   "metadata": {},
   "source": [
    "# CAP4633C Machine Learning II\n",
    "## Presentation 3\n",
    "### Victor Roa, Deany Rodriguez - 12/11/2021"
   ]
  },
  {
   "cell_type": "markdown",
   "id": "2f7a7111",
   "metadata": {},
   "source": [
    "<b>DATASET SUMMARY </b>\n",
    "\n",
    "From USA Forensic Science Service; 6 types of glass; defined in terms of their oxide content (i.e. Na, Fe, K, etc) \n",
    "\n",
    "Creator:\n",
    "B. GermanCentral Research EstablishmentHome Office Forensic Science ServiceAldermaston, Reading, Berkshire RG7 4PN\n",
    "\n",
    "Donor:\n",
    "Vina Spiehler, Ph.D., DABFTDiagnostic Products Corporation(213) 776-0180 (ext 3014)\n",
    "\n",
    "<b>Attribute Information:</b>\n",
    "1. Id number: 1 to 214 \n",
    "2. RI: refractive index\n",
    "3. Na: Sodium (unit measurement: weight percent in corresponding oxide, as are attributes 4-10)\n",
    "4. Mg: Magnesium\n",
    "5. Al: Aluminum\n",
    "6. Si: Silicon\n",
    "7. K: Potassium\n",
    "8. Ca: Calcium\n",
    "9. Ba: Barium\n",
    "10. Fe: Iron\n",
    "11. Type of glass: (class attribute)\n",
    "    * 1 building windows float processed \n",
    "    * 2 building windows non float processed \n",
    "    * 3 vehicle windows float processed \n",
    "    * 4 vehicle windows non float processed (none in this database)\n",
    "    * 5 containers \n",
    "    * 6 tableware \n",
    "    * 7 headlamps"
   ]
  },
  {
   "cell_type": "markdown",
   "id": "9218413c",
   "metadata": {},
   "source": [
    "The first step is to import our csv file and build a panda dataframe with it. The dataframe will be called gl_df. After creating it, it is always important to do an exploratory analisis and prepare the data for the modeling process."
   ]
  },
  {
   "cell_type": "code",
   "execution_count": 1,
   "id": "1a1cff5f",
   "metadata": {
    "ExecuteTime": {
     "end_time": "2021-12-14T23:57:34.272559Z",
     "start_time": "2021-12-14T23:57:33.792256Z"
    }
   },
   "outputs": [
    {
     "data": {
      "text/html": [
       "<div>\n",
       "<style scoped>\n",
       "    .dataframe tbody tr th:only-of-type {\n",
       "        vertical-align: middle;\n",
       "    }\n",
       "\n",
       "    .dataframe tbody tr th {\n",
       "        vertical-align: top;\n",
       "    }\n",
       "\n",
       "    .dataframe thead th {\n",
       "        text-align: right;\n",
       "    }\n",
       "</style>\n",
       "<table border=\"1\" class=\"dataframe\">\n",
       "  <thead>\n",
       "    <tr style=\"text-align: right;\">\n",
       "      <th></th>\n",
       "      <th>column_a</th>\n",
       "      <th>column_b</th>\n",
       "      <th>column_c</th>\n",
       "      <th>column_d</th>\n",
       "      <th>column_e</th>\n",
       "      <th>column_f</th>\n",
       "      <th>column_g</th>\n",
       "      <th>column_h</th>\n",
       "      <th>column_i</th>\n",
       "      <th>column_j</th>\n",
       "      <th>column_k</th>\n",
       "    </tr>\n",
       "  </thead>\n",
       "  <tbody>\n",
       "    <tr>\n",
       "      <th>0</th>\n",
       "      <td>1</td>\n",
       "      <td>1.52101</td>\n",
       "      <td>13.64</td>\n",
       "      <td>4.49</td>\n",
       "      <td>1.10</td>\n",
       "      <td>71.78</td>\n",
       "      <td>0.06</td>\n",
       "      <td>8.75</td>\n",
       "      <td>0.00</td>\n",
       "      <td>0.0</td>\n",
       "      <td>1</td>\n",
       "    </tr>\n",
       "    <tr>\n",
       "      <th>1</th>\n",
       "      <td>2</td>\n",
       "      <td>1.51761</td>\n",
       "      <td>13.89</td>\n",
       "      <td>3.60</td>\n",
       "      <td>1.36</td>\n",
       "      <td>72.73</td>\n",
       "      <td>0.48</td>\n",
       "      <td>7.83</td>\n",
       "      <td>0.00</td>\n",
       "      <td>0.0</td>\n",
       "      <td>1</td>\n",
       "    </tr>\n",
       "    <tr>\n",
       "      <th>2</th>\n",
       "      <td>3</td>\n",
       "      <td>1.51618</td>\n",
       "      <td>13.53</td>\n",
       "      <td>3.55</td>\n",
       "      <td>1.54</td>\n",
       "      <td>72.99</td>\n",
       "      <td>0.39</td>\n",
       "      <td>7.78</td>\n",
       "      <td>0.00</td>\n",
       "      <td>0.0</td>\n",
       "      <td>1</td>\n",
       "    </tr>\n",
       "    <tr>\n",
       "      <th>3</th>\n",
       "      <td>4</td>\n",
       "      <td>1.51766</td>\n",
       "      <td>13.21</td>\n",
       "      <td>3.69</td>\n",
       "      <td>1.29</td>\n",
       "      <td>72.61</td>\n",
       "      <td>0.57</td>\n",
       "      <td>8.22</td>\n",
       "      <td>0.00</td>\n",
       "      <td>0.0</td>\n",
       "      <td>1</td>\n",
       "    </tr>\n",
       "    <tr>\n",
       "      <th>4</th>\n",
       "      <td>5</td>\n",
       "      <td>1.51742</td>\n",
       "      <td>13.27</td>\n",
       "      <td>3.62</td>\n",
       "      <td>1.24</td>\n",
       "      <td>73.08</td>\n",
       "      <td>0.55</td>\n",
       "      <td>8.07</td>\n",
       "      <td>0.00</td>\n",
       "      <td>0.0</td>\n",
       "      <td>1</td>\n",
       "    </tr>\n",
       "    <tr>\n",
       "      <th>...</th>\n",
       "      <td>...</td>\n",
       "      <td>...</td>\n",
       "      <td>...</td>\n",
       "      <td>...</td>\n",
       "      <td>...</td>\n",
       "      <td>...</td>\n",
       "      <td>...</td>\n",
       "      <td>...</td>\n",
       "      <td>...</td>\n",
       "      <td>...</td>\n",
       "      <td>...</td>\n",
       "    </tr>\n",
       "    <tr>\n",
       "      <th>209</th>\n",
       "      <td>210</td>\n",
       "      <td>1.51623</td>\n",
       "      <td>14.14</td>\n",
       "      <td>0.00</td>\n",
       "      <td>2.88</td>\n",
       "      <td>72.61</td>\n",
       "      <td>0.08</td>\n",
       "      <td>9.18</td>\n",
       "      <td>1.06</td>\n",
       "      <td>0.0</td>\n",
       "      <td>7</td>\n",
       "    </tr>\n",
       "    <tr>\n",
       "      <th>210</th>\n",
       "      <td>211</td>\n",
       "      <td>1.51685</td>\n",
       "      <td>14.92</td>\n",
       "      <td>0.00</td>\n",
       "      <td>1.99</td>\n",
       "      <td>73.06</td>\n",
       "      <td>0.00</td>\n",
       "      <td>8.40</td>\n",
       "      <td>1.59</td>\n",
       "      <td>0.0</td>\n",
       "      <td>7</td>\n",
       "    </tr>\n",
       "    <tr>\n",
       "      <th>211</th>\n",
       "      <td>212</td>\n",
       "      <td>1.52065</td>\n",
       "      <td>14.36</td>\n",
       "      <td>0.00</td>\n",
       "      <td>2.02</td>\n",
       "      <td>73.42</td>\n",
       "      <td>0.00</td>\n",
       "      <td>8.44</td>\n",
       "      <td>1.64</td>\n",
       "      <td>0.0</td>\n",
       "      <td>7</td>\n",
       "    </tr>\n",
       "    <tr>\n",
       "      <th>212</th>\n",
       "      <td>213</td>\n",
       "      <td>1.51651</td>\n",
       "      <td>14.38</td>\n",
       "      <td>0.00</td>\n",
       "      <td>1.94</td>\n",
       "      <td>73.61</td>\n",
       "      <td>0.00</td>\n",
       "      <td>8.48</td>\n",
       "      <td>1.57</td>\n",
       "      <td>0.0</td>\n",
       "      <td>7</td>\n",
       "    </tr>\n",
       "    <tr>\n",
       "      <th>213</th>\n",
       "      <td>214</td>\n",
       "      <td>1.51711</td>\n",
       "      <td>14.23</td>\n",
       "      <td>0.00</td>\n",
       "      <td>2.08</td>\n",
       "      <td>73.36</td>\n",
       "      <td>0.00</td>\n",
       "      <td>8.62</td>\n",
       "      <td>1.67</td>\n",
       "      <td>0.0</td>\n",
       "      <td>7</td>\n",
       "    </tr>\n",
       "  </tbody>\n",
       "</table>\n",
       "<p>214 rows × 11 columns</p>\n",
       "</div>"
      ],
      "text/plain": [
       "     column_a  column_b  column_c  column_d  column_e  column_f  column_g  \\\n",
       "0           1   1.52101     13.64      4.49      1.10     71.78      0.06   \n",
       "1           2   1.51761     13.89      3.60      1.36     72.73      0.48   \n",
       "2           3   1.51618     13.53      3.55      1.54     72.99      0.39   \n",
       "3           4   1.51766     13.21      3.69      1.29     72.61      0.57   \n",
       "4           5   1.51742     13.27      3.62      1.24     73.08      0.55   \n",
       "..        ...       ...       ...       ...       ...       ...       ...   \n",
       "209       210   1.51623     14.14      0.00      2.88     72.61      0.08   \n",
       "210       211   1.51685     14.92      0.00      1.99     73.06      0.00   \n",
       "211       212   1.52065     14.36      0.00      2.02     73.42      0.00   \n",
       "212       213   1.51651     14.38      0.00      1.94     73.61      0.00   \n",
       "213       214   1.51711     14.23      0.00      2.08     73.36      0.00   \n",
       "\n",
       "     column_h  column_i  column_j  column_k  \n",
       "0        8.75      0.00       0.0         1  \n",
       "1        7.83      0.00       0.0         1  \n",
       "2        7.78      0.00       0.0         1  \n",
       "3        8.22      0.00       0.0         1  \n",
       "4        8.07      0.00       0.0         1  \n",
       "..        ...       ...       ...       ...  \n",
       "209      9.18      1.06       0.0         7  \n",
       "210      8.40      1.59       0.0         7  \n",
       "211      8.44      1.64       0.0         7  \n",
       "212      8.48      1.57       0.0         7  \n",
       "213      8.62      1.67       0.0         7  \n",
       "\n",
       "[214 rows x 11 columns]"
      ]
     },
     "execution_count": 1,
     "metadata": {},
     "output_type": "execute_result"
    }
   ],
   "source": [
    "import pandas as pd\n",
    "gl_df = pd.read_csv('glass_data.csv')\n",
    "gl_df"
   ]
  },
  {
   "cell_type": "markdown",
   "id": "57963fd7",
   "metadata": {},
   "source": [
    "Here we can see that the column headers are not named correctly, and also, the column_a refers to an ID column, so it needs to be dropped."
   ]
  },
  {
   "cell_type": "code",
   "execution_count": 2,
   "id": "73a4cf1d",
   "metadata": {
    "ExecuteTime": {
     "end_time": "2021-12-14T23:57:34.303456Z",
     "start_time": "2021-12-14T23:57:34.274537Z"
    }
   },
   "outputs": [
    {
     "data": {
      "text/html": [
       "<div>\n",
       "<style scoped>\n",
       "    .dataframe tbody tr th:only-of-type {\n",
       "        vertical-align: middle;\n",
       "    }\n",
       "\n",
       "    .dataframe tbody tr th {\n",
       "        vertical-align: top;\n",
       "    }\n",
       "\n",
       "    .dataframe thead th {\n",
       "        text-align: right;\n",
       "    }\n",
       "</style>\n",
       "<table border=\"1\" class=\"dataframe\">\n",
       "  <thead>\n",
       "    <tr style=\"text-align: right;\">\n",
       "      <th></th>\n",
       "      <th>RI</th>\n",
       "      <th>Na</th>\n",
       "      <th>Mg</th>\n",
       "      <th>Al</th>\n",
       "      <th>Si</th>\n",
       "      <th>K</th>\n",
       "      <th>Ca</th>\n",
       "      <th>Ba</th>\n",
       "      <th>Fe</th>\n",
       "      <th>Class</th>\n",
       "    </tr>\n",
       "  </thead>\n",
       "  <tbody>\n",
       "    <tr>\n",
       "      <th>0</th>\n",
       "      <td>1.52101</td>\n",
       "      <td>13.64</td>\n",
       "      <td>4.49</td>\n",
       "      <td>1.10</td>\n",
       "      <td>71.78</td>\n",
       "      <td>0.06</td>\n",
       "      <td>8.75</td>\n",
       "      <td>0.00</td>\n",
       "      <td>0.0</td>\n",
       "      <td>1</td>\n",
       "    </tr>\n",
       "    <tr>\n",
       "      <th>1</th>\n",
       "      <td>1.51761</td>\n",
       "      <td>13.89</td>\n",
       "      <td>3.60</td>\n",
       "      <td>1.36</td>\n",
       "      <td>72.73</td>\n",
       "      <td>0.48</td>\n",
       "      <td>7.83</td>\n",
       "      <td>0.00</td>\n",
       "      <td>0.0</td>\n",
       "      <td>1</td>\n",
       "    </tr>\n",
       "    <tr>\n",
       "      <th>2</th>\n",
       "      <td>1.51618</td>\n",
       "      <td>13.53</td>\n",
       "      <td>3.55</td>\n",
       "      <td>1.54</td>\n",
       "      <td>72.99</td>\n",
       "      <td>0.39</td>\n",
       "      <td>7.78</td>\n",
       "      <td>0.00</td>\n",
       "      <td>0.0</td>\n",
       "      <td>1</td>\n",
       "    </tr>\n",
       "    <tr>\n",
       "      <th>3</th>\n",
       "      <td>1.51766</td>\n",
       "      <td>13.21</td>\n",
       "      <td>3.69</td>\n",
       "      <td>1.29</td>\n",
       "      <td>72.61</td>\n",
       "      <td>0.57</td>\n",
       "      <td>8.22</td>\n",
       "      <td>0.00</td>\n",
       "      <td>0.0</td>\n",
       "      <td>1</td>\n",
       "    </tr>\n",
       "    <tr>\n",
       "      <th>4</th>\n",
       "      <td>1.51742</td>\n",
       "      <td>13.27</td>\n",
       "      <td>3.62</td>\n",
       "      <td>1.24</td>\n",
       "      <td>73.08</td>\n",
       "      <td>0.55</td>\n",
       "      <td>8.07</td>\n",
       "      <td>0.00</td>\n",
       "      <td>0.0</td>\n",
       "      <td>1</td>\n",
       "    </tr>\n",
       "    <tr>\n",
       "      <th>...</th>\n",
       "      <td>...</td>\n",
       "      <td>...</td>\n",
       "      <td>...</td>\n",
       "      <td>...</td>\n",
       "      <td>...</td>\n",
       "      <td>...</td>\n",
       "      <td>...</td>\n",
       "      <td>...</td>\n",
       "      <td>...</td>\n",
       "      <td>...</td>\n",
       "    </tr>\n",
       "    <tr>\n",
       "      <th>209</th>\n",
       "      <td>1.51623</td>\n",
       "      <td>14.14</td>\n",
       "      <td>0.00</td>\n",
       "      <td>2.88</td>\n",
       "      <td>72.61</td>\n",
       "      <td>0.08</td>\n",
       "      <td>9.18</td>\n",
       "      <td>1.06</td>\n",
       "      <td>0.0</td>\n",
       "      <td>7</td>\n",
       "    </tr>\n",
       "    <tr>\n",
       "      <th>210</th>\n",
       "      <td>1.51685</td>\n",
       "      <td>14.92</td>\n",
       "      <td>0.00</td>\n",
       "      <td>1.99</td>\n",
       "      <td>73.06</td>\n",
       "      <td>0.00</td>\n",
       "      <td>8.40</td>\n",
       "      <td>1.59</td>\n",
       "      <td>0.0</td>\n",
       "      <td>7</td>\n",
       "    </tr>\n",
       "    <tr>\n",
       "      <th>211</th>\n",
       "      <td>1.52065</td>\n",
       "      <td>14.36</td>\n",
       "      <td>0.00</td>\n",
       "      <td>2.02</td>\n",
       "      <td>73.42</td>\n",
       "      <td>0.00</td>\n",
       "      <td>8.44</td>\n",
       "      <td>1.64</td>\n",
       "      <td>0.0</td>\n",
       "      <td>7</td>\n",
       "    </tr>\n",
       "    <tr>\n",
       "      <th>212</th>\n",
       "      <td>1.51651</td>\n",
       "      <td>14.38</td>\n",
       "      <td>0.00</td>\n",
       "      <td>1.94</td>\n",
       "      <td>73.61</td>\n",
       "      <td>0.00</td>\n",
       "      <td>8.48</td>\n",
       "      <td>1.57</td>\n",
       "      <td>0.0</td>\n",
       "      <td>7</td>\n",
       "    </tr>\n",
       "    <tr>\n",
       "      <th>213</th>\n",
       "      <td>1.51711</td>\n",
       "      <td>14.23</td>\n",
       "      <td>0.00</td>\n",
       "      <td>2.08</td>\n",
       "      <td>73.36</td>\n",
       "      <td>0.00</td>\n",
       "      <td>8.62</td>\n",
       "      <td>1.67</td>\n",
       "      <td>0.0</td>\n",
       "      <td>7</td>\n",
       "    </tr>\n",
       "  </tbody>\n",
       "</table>\n",
       "<p>214 rows × 10 columns</p>\n",
       "</div>"
      ],
      "text/plain": [
       "          RI     Na    Mg    Al     Si     K    Ca    Ba   Fe  Class\n",
       "0    1.52101  13.64  4.49  1.10  71.78  0.06  8.75  0.00  0.0      1\n",
       "1    1.51761  13.89  3.60  1.36  72.73  0.48  7.83  0.00  0.0      1\n",
       "2    1.51618  13.53  3.55  1.54  72.99  0.39  7.78  0.00  0.0      1\n",
       "3    1.51766  13.21  3.69  1.29  72.61  0.57  8.22  0.00  0.0      1\n",
       "4    1.51742  13.27  3.62  1.24  73.08  0.55  8.07  0.00  0.0      1\n",
       "..       ...    ...   ...   ...    ...   ...   ...   ...  ...    ...\n",
       "209  1.51623  14.14  0.00  2.88  72.61  0.08  9.18  1.06  0.0      7\n",
       "210  1.51685  14.92  0.00  1.99  73.06  0.00  8.40  1.59  0.0      7\n",
       "211  1.52065  14.36  0.00  2.02  73.42  0.00  8.44  1.64  0.0      7\n",
       "212  1.51651  14.38  0.00  1.94  73.61  0.00  8.48  1.57  0.0      7\n",
       "213  1.51711  14.23  0.00  2.08  73.36  0.00  8.62  1.67  0.0      7\n",
       "\n",
       "[214 rows x 10 columns]"
      ]
     },
     "execution_count": 2,
     "metadata": {},
     "output_type": "execute_result"
    }
   ],
   "source": [
    "gl_df = gl_df.drop(['column_a'], axis=1)\n",
    "gl_df= gl_df.rename(columns={'column_b': 'RI', \n",
    "                             'column_c': 'Na',\n",
    "                             'column_d': 'Mg',\n",
    "                             'column_e': 'Al',\n",
    "                             'column_f': 'Si',\n",
    "                             'column_g': 'K',\n",
    "                             'column_h': 'Ca',\n",
    "                             'column_i': 'Ba',\n",
    "                             'column_j': 'Fe',\n",
    "                             'column_k': 'Class',})\n",
    "gl_df"
   ]
  },
  {
   "cell_type": "markdown",
   "id": "23889070",
   "metadata": {},
   "source": [
    "At the last preprocessing step, we will check if we have any null values, and if there are some, it is necessary to either drop them or replacing them with an statistical measure (median/mode).\n",
    "\n",
    "Since our dataset doesn't have any null values in any of the columns, we can continue with the data processing."
   ]
  },
  {
   "cell_type": "code",
   "execution_count": 3,
   "id": "da218f18",
   "metadata": {
    "ExecuteTime": {
     "end_time": "2021-12-14T23:57:34.318833Z",
     "start_time": "2021-12-14T23:57:34.306461Z"
    }
   },
   "outputs": [
    {
     "data": {
      "text/plain": [
       "RI       0\n",
       "Na       0\n",
       "Mg       0\n",
       "Al       0\n",
       "Si       0\n",
       "K        0\n",
       "Ca       0\n",
       "Ba       0\n",
       "Fe       0\n",
       "Class    0\n",
       "dtype: int64"
      ]
     },
     "execution_count": 3,
     "metadata": {},
     "output_type": "execute_result"
    }
   ],
   "source": [
    "import numpy as np\n",
    "gl_df.isnull().sum()"
   ]
  },
  {
   "cell_type": "markdown",
   "id": "3aa18aaf",
   "metadata": {},
   "source": [
    "First, let's import the sklearn library to split our dataset into train and testing dataset, with a random_state of 1, and a proportion of 75/25"
   ]
  },
  {
   "cell_type": "code",
   "execution_count": 4,
   "id": "dc9cbd46",
   "metadata": {
    "ExecuteTime": {
     "end_time": "2021-12-14T23:57:35.292991Z",
     "start_time": "2021-12-14T23:57:34.320519Z"
    }
   },
   "outputs": [],
   "source": [
    "from sklearn.model_selection import train_test_split\n",
    "\n",
    "X= gl_df.iloc[:,:-1].values\n",
    "y= gl_df.iloc[:, -1].values\n",
    "\n",
    "\n",
    "X_train, X_test, y_train, y_test =\\\n",
    "    train_test_split(X, y, \n",
    "                     test_size=0.25, random_state=1)"
   ]
  },
  {
   "cell_type": "markdown",
   "id": "c31c033e",
   "metadata": {},
   "source": [
    "Using the preprocessing libraries from sklearn, let's standarize the data"
   ]
  },
  {
   "cell_type": "code",
   "execution_count": 5,
   "id": "187009b9",
   "metadata": {
    "ExecuteTime": {
     "end_time": "2021-12-14T23:57:35.308211Z",
     "start_time": "2021-12-14T23:57:35.294398Z"
    }
   },
   "outputs": [],
   "source": [
    "from sklearn.preprocessing import MinMaxScaler\n",
    "\n",
    "mms = MinMaxScaler()\n",
    "X_train_norm = mms.fit_transform(X_train)\n",
    "X_test_norm = mms.transform(X_test)"
   ]
  },
  {
   "cell_type": "code",
   "execution_count": 6,
   "id": "2c19e3d1",
   "metadata": {
    "ExecuteTime": {
     "end_time": "2021-12-14T23:57:35.323698Z",
     "start_time": "2021-12-14T23:57:35.309150Z"
    }
   },
   "outputs": [],
   "source": [
    "from sklearn.preprocessing import StandardScaler\n",
    "\n",
    "stdsc = StandardScaler()\n",
    "X_train_std = stdsc.fit_transform(X_train)\n",
    "X_test_std = stdsc.transform(X_test)"
   ]
  },
  {
   "cell_type": "markdown",
   "id": "1d784e5c",
   "metadata": {},
   "source": [
    "Import the required libraries and define the SBS class"
   ]
  },
  {
   "cell_type": "code",
   "execution_count": 7,
   "id": "2f087984",
   "metadata": {
    "ExecuteTime": {
     "end_time": "2021-12-14T23:57:35.339784Z",
     "start_time": "2021-12-14T23:57:35.325451Z"
    }
   },
   "outputs": [],
   "source": [
    "from sklearn.base import clone\n",
    "from itertools import combinations\n",
    "import numpy as np\n",
    "from sklearn.metrics import accuracy_score\n",
    "from sklearn.model_selection import train_test_split\n",
    "\n",
    "\n",
    "class SBS():\n",
    "    def __init__(self, estimator, k_features, scoring=accuracy_score,\n",
    "                 test_size=0.25, random_state=1):\n",
    "        self.scoring = scoring\n",
    "        self.estimator = clone(estimator)\n",
    "        self.k_features = k_features\n",
    "        self.test_size = test_size\n",
    "        self.random_state = random_state\n",
    "\n",
    "    def fit(self, X, y):\n",
    "        \n",
    "        X_train, X_test, y_train, y_test = \\\n",
    "            train_test_split(X, y, test_size=self.test_size,\n",
    "                             random_state=self.random_state)\n",
    "\n",
    "        dim = X_train.shape[1]\n",
    "       \n",
    "        self.indices_ = tuple(range(dim))\n",
    "        self.subsets_ = [self.indices_]\n",
    "        score = self._calc_score(X_train, y_train, \n",
    "                                 X_test, y_test, self.indices_)\n",
    "        self.scores_ = [score]\n",
    "#         kai add 20211207\n",
    "        print('dim:',dim)\n",
    "        print('score:',score)  \n",
    "        print('subset:',self.subsets_)\n",
    "        print('--------------------------------------------------------------')\n",
    "#         kai add 20211207 end\n",
    "        while dim > self.k_features:\n",
    "            scores = []\n",
    "            subsets = []\n",
    "            \n",
    "            for p in combinations(self.indices_, r=dim - 1):\n",
    "                score = self._calc_score(X_train, y_train, \n",
    "                                         X_test, y_test, p)\n",
    "                scores.append(score)\n",
    "                subsets.append(p)\n",
    "                print('subset:',p)\n",
    "            best = np.argmax(scores)\n",
    "            self.indices_ = subsets[best]\n",
    "            self.subsets_.append(self.indices_)\n",
    "            dim -= 1\n",
    "            print('dim:',dim) # kai add 20211207\n",
    "#             print('subset:',p)\n",
    "            self.scores_.append(scores[best])\n",
    "            print('score:',scores[best])  # kai add 20211207\n",
    "        self.k_score_ = self.scores_[-1]\n",
    "       \n",
    "       \n",
    "        return self\n",
    "\n",
    "    def transform(self, X):\n",
    "        return X[:, self.indices_]\n",
    "\n",
    "    def _calc_score(self, X_train, y_train, X_test, y_test, indices):\n",
    "        self.estimator.fit(X_train[:, indices], y_train)\n",
    "        y_pred = self.estimator.predict(X_test[:, indices])\n",
    "        score = self.scoring(y_test, y_pred)\n",
    "        return score"
   ]
  },
  {
   "cell_type": "markdown",
   "id": "22493cf6",
   "metadata": {},
   "source": [
    "Using the SBS class and the KNeighborsClassifier build the model to evaluate the best possible feature selection "
   ]
  },
  {
   "cell_type": "code",
   "execution_count": 8,
   "id": "352b6620",
   "metadata": {
    "ExecuteTime": {
     "end_time": "2021-12-14T23:57:35.790158Z",
     "start_time": "2021-12-14T23:57:35.341272Z"
    }
   },
   "outputs": [
    {
     "name": "stdout",
     "output_type": "stream",
     "text": [
      "dim: 9\n",
      "score: 0.625\n",
      "subset: [(0, 1, 2, 3, 4, 5, 6, 7, 8)]\n",
      "--------------------------------------------------------------\n",
      "subset: (0, 1, 2, 3, 4, 5, 6, 7)\n",
      "subset: (0, 1, 2, 3, 4, 5, 6, 8)\n",
      "subset: (0, 1, 2, 3, 4, 5, 7, 8)\n",
      "subset: (0, 1, 2, 3, 4, 6, 7, 8)\n",
      "subset: (0, 1, 2, 3, 5, 6, 7, 8)\n",
      "subset: (0, 1, 2, 4, 5, 6, 7, 8)\n",
      "subset: (0, 1, 3, 4, 5, 6, 7, 8)\n",
      "subset: (0, 2, 3, 4, 5, 6, 7, 8)\n",
      "subset: (1, 2, 3, 4, 5, 6, 7, 8)\n",
      "dim: 8\n",
      "score: 0.725\n",
      "subset: (0, 2, 3, 4, 5, 6, 7)\n",
      "subset: (0, 2, 3, 4, 5, 6, 8)\n",
      "subset: (0, 2, 3, 4, 5, 7, 8)\n",
      "subset: (0, 2, 3, 4, 6, 7, 8)\n",
      "subset: (0, 2, 3, 5, 6, 7, 8)\n",
      "subset: (0, 2, 4, 5, 6, 7, 8)\n",
      "subset: (0, 3, 4, 5, 6, 7, 8)\n",
      "subset: (2, 3, 4, 5, 6, 7, 8)\n",
      "dim: 7\n",
      "score: 0.7\n",
      "subset: (0, 2, 3, 4, 5, 6)\n",
      "subset: (0, 2, 3, 4, 5, 7)\n",
      "subset: (0, 2, 3, 4, 6, 7)\n",
      "subset: (0, 2, 3, 5, 6, 7)\n",
      "subset: (0, 2, 4, 5, 6, 7)\n",
      "subset: (0, 3, 4, 5, 6, 7)\n",
      "subset: (2, 3, 4, 5, 6, 7)\n",
      "dim: 6\n",
      "score: 0.7\n",
      "subset: (0, 2, 4, 5, 6)\n",
      "subset: (0, 2, 4, 5, 7)\n",
      "subset: (0, 2, 4, 6, 7)\n",
      "subset: (0, 2, 5, 6, 7)\n",
      "subset: (0, 4, 5, 6, 7)\n",
      "subset: (2, 4, 5, 6, 7)\n",
      "dim: 5\n",
      "score: 0.725\n",
      "subset: (0, 2, 5, 6)\n",
      "subset: (0, 2, 5, 7)\n",
      "subset: (0, 2, 6, 7)\n",
      "subset: (0, 5, 6, 7)\n",
      "subset: (2, 5, 6, 7)\n",
      "dim: 4\n",
      "score: 0.725\n",
      "subset: (0, 2, 5)\n",
      "subset: (0, 2, 6)\n",
      "subset: (0, 5, 6)\n",
      "subset: (2, 5, 6)\n",
      "dim: 3\n",
      "score: 0.75\n",
      "subset: (0, 2)\n",
      "subset: (0, 5)\n",
      "subset: (2, 5)\n",
      "dim: 2\n",
      "score: 0.7\n",
      "subset: (0,)\n",
      "subset: (2,)\n",
      "dim: 1\n",
      "score: 0.525\n"
     ]
    },
    {
     "data": {
      "text/plain": [
       "<__main__.SBS at 0x2118ba85c40>"
      ]
     },
     "execution_count": 8,
     "metadata": {},
     "output_type": "execute_result"
    }
   ],
   "source": [
    "import matplotlib.pyplot as plt\n",
    "from sklearn.neighbors import KNeighborsClassifier\n",
    "\n",
    "knn = KNeighborsClassifier(n_neighbors=3)\n",
    "sbs = SBS(knn, k_features=1)\n",
    "sbs.fit(X_train_std, y_train)\n",
    "\n"
   ]
  },
  {
   "cell_type": "code",
   "execution_count": 9,
   "id": "f3aa0ec4",
   "metadata": {
    "ExecuteTime": {
     "end_time": "2021-12-14T23:57:35.962511Z",
     "start_time": "2021-12-14T23:57:35.791160Z"
    }
   },
   "outputs": [
    {
     "data": {
      "image/png": "[encoded data removed]",
      "text/plain": [
       "<Figure size 432x288 with 1 Axes>"
      ]
     },
     "metadata": {
      "needs_background": "light"
     },
     "output_type": "display_data"
    }
   ],
   "source": [
    "k_feat = [len(k) for k in sbs.subsets_]\n",
    "\n",
    "plt.plot(k_feat, sbs.scores_, marker='o')\n",
    "plt.ylim([0.6, 1.02])\n",
    "plt.ylabel('Accuracy')\n",
    "plt.xlabel('Number of features')\n",
    "plt.grid()\n",
    "plt.tight_layout()\n",
    "plt.show()"
   ]
  },
  {
   "cell_type": "markdown",
   "id": "2c83ef2b",
   "metadata": {},
   "source": [
    "Based on the model ran above, we can see that the best accuracy is obtained when using 3 features"
   ]
  },
  {
   "cell_type": "code",
   "execution_count": 10,
   "id": "792ed3d0",
   "metadata": {
    "ExecuteTime": {
     "end_time": "2021-12-14T23:57:35.978178Z",
     "start_time": "2021-12-14T23:57:35.963506Z"
    }
   },
   "outputs": [
    {
     "name": "stdout",
     "output_type": "stream",
     "text": [
      "Index(['Na', 'Al', 'Ca'], dtype='object')\n"
     ]
    }
   ],
   "source": [
    "k5 = list(sbs.subsets_[6])\n",
    "print(gl_df.columns[1:][k5])"
   ]
  },
  {
   "cell_type": "code",
   "execution_count": 11,
   "id": "244a78ec",
   "metadata": {
    "ExecuteTime": {
     "end_time": "2021-12-14T23:57:35.994388Z",
     "start_time": "2021-12-14T23:57:35.979173Z"
    }
   },
   "outputs": [
    {
     "name": "stdout",
     "output_type": "stream",
     "text": [
      "Training accuracy: 0.8375\n",
      "Test accuracy: 0.7037037037037037\n"
     ]
    }
   ],
   "source": [
    "knn.fit(X_train_std, y_train)\n",
    "print('Training accuracy:', knn.score(X_train_std, y_train))\n",
    "print('Test accuracy:', knn.score(X_test_std, y_test))\n"
   ]
  },
  {
   "cell_type": "code",
   "execution_count": 12,
   "id": "9a723296",
   "metadata": {
    "ExecuteTime": {
     "end_time": "2021-12-14T23:57:36.009545Z",
     "start_time": "2021-12-14T23:57:35.995666Z"
    }
   },
   "outputs": [
    {
     "name": "stdout",
     "output_type": "stream",
     "text": [
      "Training accuracy: 0.84375\n",
      "Test accuracy: 0.7592592592592593\n"
     ]
    }
   ],
   "source": [
    "knn.fit(X_train_std[:, k5], y_train)\n",
    "print('Training accuracy:', knn.score(X_train_std[:, k5], y_train))\n",
    "print('Test accuracy:', knn.score(X_test_std[:, k5], y_test))"
   ]
  },
  {
   "cell_type": "markdown",
   "id": "f860cce5",
   "metadata": {},
   "source": [
    "Now we will evaluate the feature importance for the gl_df dataset, using the Sklearn RandomForestClassifier library"
   ]
  },
  {
   "cell_type": "code",
   "execution_count": 13,
   "id": "910d34bb",
   "metadata": {
    "ExecuteTime": {
     "end_time": "2021-12-14T23:57:36.136032Z",
     "start_time": "2021-12-14T23:57:36.010621Z"
    }
   },
   "outputs": [
    {
     "data": {
      "text/plain": [
       "RandomForestClassifier(random_state=1)"
      ]
     },
     "execution_count": 13,
     "metadata": {},
     "output_type": "execute_result"
    }
   ],
   "source": [
    "from sklearn.ensemble import RandomForestClassifier\n",
    "\n",
    "feat_labels = gl_df.columns[:-1]\n",
    "\n",
    "forest = RandomForestClassifier(n_estimators=100,\n",
    "                                random_state=1)\n",
    "\n",
    "forest.fit(X_train, y_train)\n"
   ]
  },
  {
   "cell_type": "code",
   "execution_count": 14,
   "id": "57fa9fbe",
   "metadata": {
    "ExecuteTime": {
     "end_time": "2021-12-14T23:57:36.152101Z",
     "start_time": "2021-12-14T23:57:36.138218Z"
    }
   },
   "outputs": [],
   "source": [
    "importances = forest.feature_importances_\n",
    "\n",
    "indices = np.argsort(importances)[::-1]\n",
    "\n"
   ]
  },
  {
   "cell_type": "code",
   "execution_count": 15,
   "id": "2aa3da37",
   "metadata": {
    "ExecuteTime": {
     "end_time": "2021-12-14T23:57:36.292895Z",
     "start_time": "2021-12-14T23:57:36.153855Z"
    }
   },
   "outputs": [
    {
     "name": "stdout",
     "output_type": "stream",
     "text": [
      " 1) Mg                             0.163222\n",
      " 2) Al                             0.160223\n",
      " 3) RI                             0.141906\n",
      " 4) Ca                             0.111530\n",
      " 5) Na                             0.105531\n",
      " 6) K                              0.102381\n",
      " 7) Ba                             0.091497\n",
      " 8) Si                             0.077734\n",
      " 9) Fe                             0.045976\n"
     ]
    },
    {
     "data": {
      "image/png": "[encoded data removed]",
      "text/plain": [
       "<Figure size 432x288 with 1 Axes>"
      ]
     },
     "metadata": {
      "needs_background": "light"
     },
     "output_type": "display_data"
    }
   ],
   "source": [
    "for f in range(X_train.shape[1]):\n",
    "    print(\"%2d) %-*s %f\" % (f + 1, 30, \n",
    "                            feat_labels[indices[f]], \n",
    "                            importances[indices[f]]))\n",
    "\n",
    "plt.title('Feature Importance')\n",
    "plt.bar(range(X_train.shape[1]), \n",
    "        importances[indices],\n",
    "        align='center')\n",
    "\n",
    "plt.xticks(range(X_train.shape[1]), \n",
    "           feat_labels[indices], rotation=90)\n",
    "plt.xlim([-1, X_train.shape[1]])\n",
    "plt.tight_layout()\n",
    "plt.show()"
   ]
  },
  {
   "cell_type": "code",
   "execution_count": 16,
   "id": "359132c7",
   "metadata": {
    "ExecuteTime": {
     "end_time": "2021-12-14T23:57:36.323938Z",
     "start_time": "2021-12-14T23:57:36.293896Z"
    }
   },
   "outputs": [
    {
     "name": "stdout",
     "output_type": "stream",
     "text": [
      "Number of features that meet this threshold criterion: 6\n"
     ]
    }
   ],
   "source": [
    "from sklearn.feature_selection import SelectFromModel\n",
    "\n",
    "sfm = SelectFromModel(forest, threshold=0.10, prefit=True)\n",
    "X_selected = sfm.transform(X_train)\n",
    "print('Number of features that meet this threshold criterion:', \n",
    "      X_selected.shape[1])"
   ]
  },
  {
   "cell_type": "markdown",
   "id": "2c5c0cff",
   "metadata": {},
   "source": [
    "Now we can see that we have 6 features that meet the critearia, and since our model could perform better when usinf 3 features we can decide the best ones:\n",
    "\n",
    "    1. Mg \n",
    "    2. Al\n",
    "    3. RI"
   ]
  },
  {
   "cell_type": "markdown",
   "id": "32492bb6",
   "metadata": {},
   "source": [
    "<b>MLXtend to obtain Best Feature Selection </b>\n",
    "\n",
    "Now, Let's try to find the best feature selection using the MLXtend library"
   ]
  },
  {
   "cell_type": "code",
   "execution_count": 17,
   "id": "633eb6aa",
   "metadata": {
    "ExecuteTime": {
     "end_time": "2021-12-14T23:57:36.555648Z",
     "start_time": "2021-12-14T23:57:36.325540Z"
    }
   },
   "outputs": [
    {
     "name": "stderr",
     "output_type": "stream",
     "text": [
      "[Parallel(n_jobs=1)]: Using backend SequentialBackend with 1 concurrent workers.\n",
      "[Parallel(n_jobs=1)]: Done   1 out of   1 | elapsed:    0.0s remaining:    0.0s\n",
      "[Parallel(n_jobs=1)]: Done   9 out of   9 | elapsed:    0.0s finished\n",
      "\n",
      "[2021-12-14 18:57:36] Features: 1/9 -- score: 0.6915887850467289[Parallel(n_jobs=1)]: Using backend SequentialBackend with 1 concurrent workers.\n",
      "[Parallel(n_jobs=1)]: Done   1 out of   1 | elapsed:    0.0s remaining:    0.0s\n",
      "[Parallel(n_jobs=1)]: Done   8 out of   8 | elapsed:    0.0s finished\n",
      "\n",
      "[2021-12-14 18:57:36] Features: 2/9 -- score: 0.780373831775701[Parallel(n_jobs=1)]: Using backend SequentialBackend with 1 concurrent workers.\n",
      "[Parallel(n_jobs=1)]: Done   1 out of   1 | elapsed:    0.0s remaining:    0.0s\n",
      "[Parallel(n_jobs=1)]: Done   7 out of   7 | elapsed:    0.0s finished\n",
      "\n",
      "[2021-12-14 18:57:36] Features: 3/9 -- score: 0.822429906542056[Parallel(n_jobs=1)]: Using backend SequentialBackend with 1 concurrent workers.\n",
      "[Parallel(n_jobs=1)]: Done   1 out of   1 | elapsed:    0.0s remaining:    0.0s\n",
      "[Parallel(n_jobs=1)]: Done   6 out of   6 | elapsed:    0.0s finished\n",
      "\n",
      "[2021-12-14 18:57:36] Features: 4/9 -- score: 0.8457943925233645[Parallel(n_jobs=1)]: Using backend SequentialBackend with 1 concurrent workers.\n",
      "[Parallel(n_jobs=1)]: Done   1 out of   1 | elapsed:    0.0s remaining:    0.0s\n",
      "[Parallel(n_jobs=1)]: Done   5 out of   5 | elapsed:    0.0s finished\n",
      "\n",
      "[2021-12-14 18:57:36] Features: 5/9 -- score: 0.8644859813084113[Parallel(n_jobs=1)]: Using backend SequentialBackend with 1 concurrent workers.\n",
      "[Parallel(n_jobs=1)]: Done   1 out of   1 | elapsed:    0.0s remaining:    0.0s\n",
      "[Parallel(n_jobs=1)]: Done   4 out of   4 | elapsed:    0.0s finished\n",
      "\n",
      "[2021-12-14 18:57:36] Features: 6/9 -- score: 0.8644859813084113[Parallel(n_jobs=1)]: Using backend SequentialBackend with 1 concurrent workers.\n",
      "[Parallel(n_jobs=1)]: Done   1 out of   1 | elapsed:    0.0s remaining:    0.0s\n",
      "[Parallel(n_jobs=1)]: Done   3 out of   3 | elapsed:    0.0s finished\n",
      "\n",
      "[2021-12-14 18:57:36] Features: 7/9 -- score: 0.8598130841121495[Parallel(n_jobs=1)]: Using backend SequentialBackend with 1 concurrent workers.\n",
      "[Parallel(n_jobs=1)]: Done   1 out of   1 | elapsed:    0.0s remaining:    0.0s\n",
      "[Parallel(n_jobs=1)]: Done   2 out of   2 | elapsed:    0.0s finished\n",
      "\n",
      "[2021-12-14 18:57:36] Features: 8/9 -- score: 0.8504672897196262[Parallel(n_jobs=1)]: Using backend SequentialBackend with 1 concurrent workers.\n",
      "[Parallel(n_jobs=1)]: Done   1 out of   1 | elapsed:    0.0s remaining:    0.0s\n",
      "[Parallel(n_jobs=1)]: Done   1 out of   1 | elapsed:    0.0s finished\n",
      "\n",
      "[2021-12-14 18:57:36] Features: 9/9 -- score: 0.8364485981308412"
     ]
    },
    {
     "data": {
      "text/plain": [
       "{1: {'feature_idx': (3,),\n",
       "  'cv_scores': array([0.69158879]),\n",
       "  'avg_score': 0.6915887850467289,\n",
       "  'feature_names': ('Al',)},\n",
       " 2: {'feature_idx': (2, 3),\n",
       "  'cv_scores': array([0.78037383]),\n",
       "  'avg_score': 0.780373831775701,\n",
       "  'feature_names': ('Mg', 'Al')},\n",
       " 3: {'feature_idx': (2, 3, 5),\n",
       "  'cv_scores': array([0.82242991]),\n",
       "  'avg_score': 0.822429906542056,\n",
       "  'feature_names': ('Mg', 'Al', 'K')},\n",
       " 4: {'feature_idx': (2, 3, 5, 6),\n",
       "  'cv_scores': array([0.84579439]),\n",
       "  'avg_score': 0.8457943925233645,\n",
       "  'feature_names': ('Mg', 'Al', 'K', 'Ca')},\n",
       " 5: {'feature_idx': (2, 3, 4, 5, 6),\n",
       "  'cv_scores': array([0.86448598]),\n",
       "  'avg_score': 0.8644859813084113,\n",
       "  'feature_names': ('Mg', 'Al', 'Si', 'K', 'Ca')},\n",
       " 6: {'feature_idx': (0, 2, 3, 4, 5, 6),\n",
       "  'cv_scores': array([0.86448598]),\n",
       "  'avg_score': 0.8644859813084113,\n",
       "  'feature_names': ('RI', 'Mg', 'Al', 'Si', 'K', 'Ca')},\n",
       " 7: {'feature_idx': (0, 1, 2, 3, 4, 5, 6),\n",
       "  'cv_scores': array([0.85981308]),\n",
       "  'avg_score': 0.8598130841121495,\n",
       "  'feature_names': ('RI', 'Na', 'Mg', 'Al', 'Si', 'K', 'Ca')},\n",
       " 8: {'feature_idx': (0, 1, 2, 3, 4, 5, 6, 7),\n",
       "  'cv_scores': array([0.85046729]),\n",
       "  'avg_score': 0.8504672897196262,\n",
       "  'feature_names': ('RI', 'Na', 'Mg', 'Al', 'Si', 'K', 'Ca', 'Ba')},\n",
       " 9: {'feature_idx': (0, 1, 2, 3, 4, 5, 6, 7, 8),\n",
       "  'cv_scores': array([0.8364486]),\n",
       "  'avg_score': 0.8364485981308412,\n",
       "  'feature_names': ('RI', 'Na', 'Mg', 'Al', 'Si', 'K', 'Ca', 'Ba', 'Fe')}}"
      ]
     },
     "execution_count": 17,
     "metadata": {},
     "output_type": "execute_result"
    }
   ],
   "source": [
    "from mlxtend.feature_selection import SequentialFeatureSelector as SFS2\n",
    "feature_names = feat_labels\n",
    "sfs2 = SFS2(knn, \n",
    "           k_features=(1,9), \n",
    "           forward=True, \n",
    "           floating=False, \n",
    "           verbose=2,\n",
    "           scoring='accuracy',\n",
    "           cv=0)\n",
    "sfs2 = sfs2.fit(X, y, custom_feature_names=feature_names)\n",
    "sfs2.subsets_"
   ]
  },
  {
   "cell_type": "code",
   "execution_count": 18,
   "id": "2c76a0f1",
   "metadata": {
    "ExecuteTime": {
     "end_time": "2021-12-14T23:57:37.130188Z",
     "start_time": "2021-12-14T23:57:36.557664Z"
    }
   },
   "outputs": [
    {
     "name": "stdout",
     "output_type": "stream",
     "text": [
      "Best Combination (ACC: 0.769): (0, 2, 3, 5, 7)\n",
      "\n",
      "all subsets:\n",
      " {1: {'feature_idx': (3,), 'cv_scores': array([0.46875, 0.5625 , 0.59375, 0.53125, 0.5    ]), 'avg_score': 0.53125, 'feature_names': ('3',)}, 2: {'feature_idx': (2, 3), 'cv_scores': array([0.625  , 0.65625, 0.65625, 0.625  , 0.65625]), 'avg_score': 0.64375, 'feature_names': ('2', '3')}, 3: {'feature_idx': (0, 2, 3), 'cv_scores': array([0.625  , 0.65625, 0.6875 , 0.78125, 0.8125 ]), 'avg_score': 0.7125, 'feature_names': ('0', '2', '3')}, 4: {'feature_idx': (0, 2, 3, 5), 'cv_scores': array([0.65625, 0.65625, 0.78125, 0.8125 , 0.8125 ]), 'avg_score': 0.74375, 'feature_names': ('0', '2', '3', '5')}, 5: {'feature_idx': (0, 2, 3, 5, 7), 'cv_scores': array([0.71875, 0.6875 , 0.78125, 0.84375, 0.8125 ]), 'avg_score': 0.76875, 'feature_names': ('0', '2', '3', '5', '7')}, 6: {'feature_idx': (0, 2, 3, 5, 7, 8), 'cv_scores': array([0.78125, 0.71875, 0.71875, 0.8125 , 0.78125]), 'avg_score': 0.7625, 'feature_names': ('0', '2', '3', '5', '7', '8')}, 7: {'feature_idx': (0, 2, 3, 5, 6, 7, 8), 'cv_scores': array([0.71875, 0.8125 , 0.75   , 0.75   , 0.75   ]), 'avg_score': 0.75625, 'feature_names': ('0', '2', '3', '5', '6', '7', '8')}, 8: {'feature_idx': (0, 2, 3, 4, 5, 6, 7, 8), 'cv_scores': array([0.6875 , 0.8125 , 0.75   , 0.65625, 0.71875]), 'avg_score': 0.725, 'feature_names': ('0', '2', '3', '4', '5', '6', '7', '8')}, 9: {'feature_idx': (0, 1, 2, 3, 4, 5, 6, 7, 8), 'cv_scores': array([0.71875, 0.75   , 0.75   , 0.65625, 0.75   ]), 'avg_score': 0.725, 'feature_names': ('0', '1', '2', '3', '4', '5', '6', '7', '8')}}\n"
     ]
    },
    {
     "data": {
      "image/png": "[encoded data removed]",
      "text/plain": [
       "<Figure size 432x288 with 1 Axes>"
      ]
     },
     "metadata": {
      "needs_background": "light"
     },
     "output_type": "display_data"
    }
   ],
   "source": [
    "from sklearn.neighbors import KNeighborsClassifier\n",
    "from sklearn.model_selection import train_test_split\n",
    "from sklearn.preprocessing import StandardScaler\n",
    "from sklearn.pipeline import make_pipeline\n",
    "from mlxtend.plotting import plot_sequential_feature_selection as plot_sfs\n",
    "import matplotlib.pyplot as plt\n",
    "\n",
    "sfs1 = SFS2(estimator=knn, \n",
    "           k_features=(1,9),\n",
    "           forward=True, \n",
    "           floating=False, \n",
    "           scoring='accuracy',\n",
    "           cv=5)\n",
    "\n",
    "pipe = make_pipeline(StandardScaler(), sfs1)\n",
    "\n",
    "pipe.fit(X_train, y_train)\n",
    "\n",
    "print('Best Combination (ACC: %.3f): %s\\n' % (sfs1.k_score_, sfs1.k_feature_idx_))\n",
    "print('all subsets:\\n', sfs1.subsets_)\n",
    "\n",
    "fig1 = plot_sfs(sfs1.get_metric_dict(), kind='std_dev')\n",
    "\n",
    "plt.ylim([0.5, 0.9])\n",
    "plt.title('Sequential Forward Selection (w. StdDev)')\n",
    "plt.grid()\n",
    "plt.show()"
   ]
  },
  {
   "cell_type": "code",
   "execution_count": 19,
   "id": "6c4876d7",
   "metadata": {
    "ExecuteTime": {
     "end_time": "2021-12-14T23:57:37.145040Z",
     "start_time": "2021-12-14T23:57:37.131369Z"
    }
   },
   "outputs": [
    {
     "name": "stdout",
     "output_type": "stream",
     "text": [
      "Test set accuracy for first model: 72.22 %\n",
      "Test set accuracy for second model: 59.26 %\n"
     ]
    }
   ],
   "source": [
    "\n",
    "X_train_sfs = sfs2.transform(X_train)\n",
    "X_test_sfs = sfs2.transform(X_test)\n",
    "knn.fit(X_train_sfs, y_train)\n",
    "y_pred = knn.predict(X_test_sfs)\n",
    "acc = float((y_test == y_pred).sum()) / y_pred.shape[0]\n",
    "\n",
    "\n",
    "X_train_sfs2 = sfs1.transform(X_train)\n",
    "X_test_sfs2 = sfs1.transform(X_test)\n",
    "knn.fit(X_train_sfs2, y_train)\n",
    "y_pred2 = knn.predict(X_test_sfs2)\n",
    "acc2 = float((y_test == y_pred2).sum()) / y_pred2.shape[0]\n",
    "\n",
    "print('Test set accuracy for first model: %.2f %%' % (acc * 100))\n",
    "print('Test set accuracy for second model: %.2f %%' % (acc2 * 100))"
   ]
  },
  {
   "cell_type": "code",
   "execution_count": 20,
   "id": "6f521bf6",
   "metadata": {
    "ExecuteTime": {
     "end_time": "2021-12-14T23:57:41.826719Z",
     "start_time": "2021-12-14T23:57:37.146593Z"
    }
   },
   "outputs": [
    {
     "name": "stdout",
     "output_type": "stream",
     "text": [
      "\n",
      "Sequential Forward Selection (k=3):\n",
      "(1, 3, 4, 6, 7)\n",
      "CV Score:\n",
      "0.6358803986710964\n",
      "\n",
      "Sequential Backward Selection (k=3):\n",
      "(1, 3, 4, 6)\n",
      "CV Score:\n",
      "0.626578073089701\n",
      "\n",
      "Sequential Forward Floating Selection (k=3):\n",
      "(1, 3, 4, 6, 7)\n",
      "CV Score:\n",
      "0.6358803986710964\n",
      "\n",
      "Sequential Backward Floating Selection (k=3):\n",
      "(1, 3, 4, 6, 7)\n",
      "CV Score:\n",
      "0.6358803986710964\n"
     ]
    }
   ],
   "source": [
    "# Sequential Forward Selection\n",
    "sfs = SFS2(knn, \n",
    "          k_features=(1,9), \n",
    "          forward=True, \n",
    "          floating=False, \n",
    "          scoring='accuracy',\n",
    "          cv=5,\n",
    "          n_jobs=-1)\n",
    "sfs = sfs.fit(X, y)\n",
    "\n",
    "print('\\nSequential Forward Selection (k=3):')\n",
    "print(sfs.k_feature_idx_)\n",
    "print('CV Score:')\n",
    "print(sfs.k_score_)\n",
    "\n",
    "###################################################\n",
    "\n",
    "# Sequential Backward Selection\n",
    "sbs = SFS2(knn, \n",
    "          k_features=(1,9), \n",
    "          forward=False, \n",
    "          floating=False, \n",
    "          scoring='accuracy',\n",
    "          cv=5,\n",
    "          n_jobs=-1)\n",
    "sbs = sbs.fit(X, y)\n",
    "\n",
    "print('\\nSequential Backward Selection (k=3):')\n",
    "print(sbs.k_feature_idx_)\n",
    "print('CV Score:')\n",
    "print(sbs.k_score_)\n",
    "\n",
    "###################################################\n",
    "\n",
    "# Sequential Forward Floating Selection\n",
    "sffs = SFS2(knn, \n",
    "           k_features=(1,9), \n",
    "           forward=True, \n",
    "           floating=True, \n",
    "           scoring='accuracy',\n",
    "           cv=5,\n",
    "           n_jobs=-1)\n",
    "sffs = sffs.fit(X, y)\n",
    "\n",
    "print('\\nSequential Forward Floating Selection (k=3):')\n",
    "print(sffs.k_feature_idx_)\n",
    "print('CV Score:')\n",
    "print(sffs.k_score_)\n",
    "\n",
    "###################################################\n",
    "\n",
    "# Sequential Backward Floating Selection\n",
    "sbfs = SFS2(knn, \n",
    "           k_features=(1,9), \n",
    "           forward=False, \n",
    "           floating=True, \n",
    "           scoring='accuracy',\n",
    "           cv=5,\n",
    "           n_jobs=-1)\n",
    "sbfs = sbfs.fit(X, y)\n",
    "\n",
    "print('\\nSequential Backward Floating Selection (k=3):')\n",
    "print(sbfs.k_feature_idx_)\n",
    "print('CV Score:')\n",
    "print(sbfs.k_score_)"
   ]
  }
 ],
 "metadata": {
  "kernelspec": {
   "display_name": "Python 3",
   "language": "python",
   "name": "python3"
  },
  "language_info": {
   "codemirror_mode": {
    "name": "ipython",
    "version": 3
   },
   "file_extension": ".py",
   "mimetype": "text/x-python",
   "name": "python",
   "nbconvert_exporter": "python",
   "pygments_lexer": "ipython3",
   "version": "3.8.8"
  },
  "toc": {
   "base_numbering": 1,
   "nav_menu": {},
   "number_sections": true,
   "sideBar": true,
   "skip_h1_title": false,
   "title_cell": "Table of Contents",
   "title_sidebar": "Contents",
   "toc_cell": false,
   "toc_position": {},
   "toc_section_display": true,
   "toc_window_display": false
  }
 },
 "nbformat": 4,
 "nbformat_minor": 5
}
